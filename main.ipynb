{
 "cells": [
  {
   "cell_type": "code",
   "execution_count": 11,
   "metadata": {
    "collapsed": true
   },
   "outputs": [],
   "source": [
    "import numpy as np\n",
    "import sounddevice as sd\n",
    "import scipy.io as io\n",
    "import functools\n"
   ]
  },
  {
   "cell_type": "code",
   "execution_count": 2,
   "outputs": [],
   "source": [
    "def sine(amplitude, frequency, time, phase):\n",
    "    return amplitude * np.sin(2 * np.pi * frequency * time + phase)\n"
   ],
   "metadata": {
    "collapsed": false
   }
  },
  {
   "cell_type": "code",
   "execution_count": 3,
   "outputs": [],
   "source": [
    "def play_tone(tone, time_view, amplitude):\n",
    "    phase = 0\n",
    "    sampling_rate = 44100\n",
    "    sampling_period = 1. / sampling_rate  # s\n",
    "    n_samples = time_view / sampling_period\n",
    "    time = np.linspace(0, time_view, int(n_samples + 1))\n",
    "\n",
    "    wave = sine(amplitude, tone, time, phase)\n",
    "    sd.default.samplerate = sampling_rate\n",
    "\n",
    "    sd.play(wave, blocking=True)\n",
    "    sd.wait()"
   ],
   "metadata": {
    "collapsed": false
   }
  },
  {
   "cell_type": "code",
   "execution_count": 9,
   "outputs": [],
   "source": [
    "# Source: https://ro.wikipedia.org/wiki/%C3%8En%C4%83l%C8%9Bimea_sunetelor\n",
    "do_freq = 261\n",
    "re_freq = 293\n",
    "mi_freq = 329\n",
    "fa_freq = 349\n",
    "sol_freq = 392\n",
    "la_freq = 440\n",
    "si_freq = 493\n",
    "do_2_freq = 523.25\n",
    "re_2_freq = 587.33\n",
    "mi_2_freq = 659.25"
   ],
   "metadata": {
    "collapsed": false
   }
  },
  {
   "cell_type": "code",
   "execution_count": 5,
   "outputs": [
    {
     "data": {
      "text/plain": "<Figure size 640x480 with 1 Axes>",
      "image/png": "[encoded data removed]"
     },
     "metadata": {},
     "output_type": "display_data"
    }
   ],
   "source": [
    "play_tone(do_freq, 1, 1)\n",
    "play_tone(re_freq, 1, 1)\n",
    "play_tone(mi_freq, 1, 1)\n",
    "play_tone(fa_freq, 1, 1)\n",
    "play_tone(sol_freq, 1, 1)\n",
    "play_tone(la_freq, 1, 1)\n"
   ],
   "metadata": {
    "collapsed": false
   }
  },
  {
   "cell_type": "code",
   "execution_count": 6,
   "outputs": [],
   "source": [
    "class Note:\n",
    "    def __init__(self, tone, value):\n",
    "        self.tone = tone\n",
    "        self.value = value"
   ],
   "metadata": {
    "collapsed": false
   }
  },
  {
   "cell_type": "code",
   "execution_count": 62,
   "outputs": [],
   "source": [
    "notes = [Note(sol_freq, 0.25), Note(la_freq, 0.25), Note(si_freq, 0.25), Note(sol_freq, 0.25), Note(sol_freq, 0.25),\n",
    "         Note(la_freq, 0.25), Note(si_freq, 0.25), Note(sol_freq, 0.25), Note(si_freq, 0.25), Note(do_2_freq, 0.25),\n",
    "         Note(re_2_freq, 0.5), Note(si_freq, 0.25), Note(do_2_freq, 0.25),\n",
    "         Note(re_2_freq, 0.5), Note(re_2_freq, 0.12), Note(mi_2_freq, 0.12), Note(re_2_freq, 0.12),\n",
    "         Note(do_2_freq, 0.12), Note(si_freq, 0.25), Note(sol_freq, 0.25), Note(re_2_freq, 0.12), Note(mi_2_freq, 0.12),\n",
    "         Note(re_2_freq, 0.12),\n",
    "         Note(do_2_freq, 0.12), Note(si_freq, 0.25), Note(sol_freq, 0.25), Note(sol_freq, 0.25), Note(do_freq, 0.25),\n",
    "         Note(sol_freq, 0.5), Note(sol_freq, 0.25), Note(do_freq, 0.25), Note(sol_freq, 0.5)]\n",
    "\n",
    "#BPM\n",
    "tempo = 120\n",
    "\n",
    "beat_length = 4"
   ],
   "metadata": {
    "collapsed": false
   }
  },
  {
   "cell_type": "code",
   "execution_count": 70,
   "outputs": [],
   "source": [
    "from math import floor\n",
    "\n",
    "\n",
    "def get_signal_from_notes(notes, tempo, beat_length):\n",
    "    sampling_rate = 44100\n",
    "    sampling_period = 1. / sampling_rate  # s\n",
    "    note_duration = beat_length / (tempo / 60)\n",
    "    time_view = functools.reduce(lambda acc, curr: acc + curr.value, notes, 0) * note_duration  # seconds\n",
    "    print(time_view)\n",
    "    n_samples = time_view / sampling_period\n",
    "    time = np.linspace(0, time_view, int(n_samples + 1))\n",
    "\n",
    "    samples_passed = 0\n",
    "    wave_list = []\n",
    "    for i in range(len(notes)):\n",
    "        note = notes[i]\n",
    "        note_sample_count = floor(n_samples * ((note.value * note_duration) / time_view))\n",
    "        time_for_note = time[samples_passed:samples_passed + note_sample_count]\n",
    "        samples_passed = samples_passed + note_sample_count\n",
    "        wave_list.append(sine(1, note.tone, time_for_note, 0))\n",
    "\n",
    "    return functools.reduce(lambda acc, curr: np.concatenate([acc, curr]), wave_list)\n",
    "\n",
    "\n",
    "def play_wave(wave):\n",
    "    sampling_rate = 44100\n",
    "    sd.default.samplerate = sampling_rate\n",
    "\n",
    "    sd.play(wave, blocking=True)\n",
    "    sd.wait()\n",
    "\n",
    "\n",
    "def write_wave(wave):\n",
    "    io.wavfile.write(\"sinus_1.wav\", 44100, wave)"
   ],
   "metadata": {
    "collapsed": false
   }
  },
  {
   "cell_type": "code",
   "execution_count": 72,
   "outputs": [
    {
     "name": "stdout",
     "output_type": "stream",
     "text": [
      "15.920000000000002\n"
     ]
    }
   ],
   "source": [
    "play_wave(get_signal_from_notes(notes, tempo, beat_length))"
   ],
   "metadata": {
    "collapsed": false
   }
  }
 ],
 "metadata": {
  "kernelspec": {
   "display_name": "Python 3",
   "language": "python",
   "name": "python3"
  },
  "language_info": {
   "codemirror_mode": {
    "name": "ipython",
    "version": 2
   },
   "file_extension": ".py",
   "mimetype": "text/x-python",
   "name": "python",
   "nbconvert_exporter": "python",
   "pygments_lexer": "ipython2",
   "version": "2.7.6"
  }
 },
 "nbformat": 4,
 "nbformat_minor": 0
}
